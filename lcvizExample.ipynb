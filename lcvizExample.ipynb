{
 "cells": [
  {
   "cell_type": "code",
   "execution_count": null,
   "id": "8c6d00c0",
   "metadata": {},
   "outputs": [],
   "source": [
    "from lcviz import lcviz\n",
    "lcviz = lcviz()\n",
    "lcviz.show()"
   ]
  },
  {
   "cell_type": "code",
   "execution_count": null,
   "id": "a21f400f",
   "metadata": {},
   "outputs": [],
   "source": [
    "import astropy.units as u\n",
    "from glue.core import Data\n",
    "\n",
    "time = [0,1,2,3,4,5,6,7,8,9] * u.s\n",
    "flux = [9,8,7,6,5,4,3,2,1,0] * u.Jy\n",
    "\n",
    "lcviz.load_data(time=time, flux=flux, data_label=\"mydata\")"
   ]
  }
 ],
 "metadata": {
  "kernelspec": {
   "display_name": "Python 3 (ipykernel)",
   "language": "python",
   "name": "python3"
  },
  "language_info": {
   "codemirror_mode": {
    "name": "ipython",
    "version": 3
   },
   "file_extension": ".py",
   "mimetype": "text/x-python",
   "name": "python",
   "nbconvert_exporter": "python",
   "pygments_lexer": "ipython3",
   "version": "3.10.10"
  }
 },
 "nbformat": 4,
 "nbformat_minor": 5
}
